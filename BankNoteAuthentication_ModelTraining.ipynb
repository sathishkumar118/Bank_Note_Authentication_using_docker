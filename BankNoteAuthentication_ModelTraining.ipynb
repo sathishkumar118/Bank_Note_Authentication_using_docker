{
    "cells": [
        {
            "cell_type": "markdown",
            "source": [
                "Data were extracted from images that were taken from genuine and forged banknote-like specimens. For digitization, an industrial camera usually used for print inspection was used. The final images have 400x 400 pixels. Due to the object lens and distance to the investigated object gray-scale pictures with a resolution of about 660 dpi were gained. Wavelet Transform tool were used to extract features from images.\n",
                "\n",
                "Dataset can be used for Binary Classification sample problems"
            ],
            "metadata": {}
        },
        {
            "cell_type": "code",
            "execution_count": 17,
            "source": [
                "import pandas as pd\n",
                "import numpy as np"
            ],
            "outputs": [],
            "metadata": {}
        },
        {
            "cell_type": "code",
            "execution_count": 18,
            "source": [
                "df=pd.read_csv('BankNote_Authentication.csv')"
            ],
            "outputs": [],
            "metadata": {}
        },
        {
            "cell_type": "code",
            "execution_count": 19,
            "source": [
                "df.head()"
            ],
            "outputs": [
                {
                    "output_type": "execute_result",
                    "data": {
                        "text/plain": [
                            "   variance  skewness  curtosis  entropy  class\n",
                            "0   3.62160    8.6661   -2.8073 -0.44699      0\n",
                            "1   4.54590    8.1674   -2.4586 -1.46210      0\n",
                            "2   3.86600   -2.6383    1.9242  0.10645      0\n",
                            "3   3.45660    9.5228   -4.0112 -3.59440      0\n",
                            "4   0.32924   -4.4552    4.5718 -0.98880      0"
                        ],
                        "text/html": [
                            "<div>\n",
                            "<style scoped>\n",
                            "    .dataframe tbody tr th:only-of-type {\n",
                            "        vertical-align: middle;\n",
                            "    }\n",
                            "\n",
                            "    .dataframe tbody tr th {\n",
                            "        vertical-align: top;\n",
                            "    }\n",
                            "\n",
                            "    .dataframe thead th {\n",
                            "        text-align: right;\n",
                            "    }\n",
                            "</style>\n",
                            "<table border=\"1\" class=\"dataframe\">\n",
                            "  <thead>\n",
                            "    <tr style=\"text-align: right;\">\n",
                            "      <th></th>\n",
                            "      <th>variance</th>\n",
                            "      <th>skewness</th>\n",
                            "      <th>curtosis</th>\n",
                            "      <th>entropy</th>\n",
                            "      <th>class</th>\n",
                            "    </tr>\n",
                            "  </thead>\n",
                            "  <tbody>\n",
                            "    <tr>\n",
                            "      <th>0</th>\n",
                            "      <td>3.62160</td>\n",
                            "      <td>8.6661</td>\n",
                            "      <td>-2.8073</td>\n",
                            "      <td>-0.44699</td>\n",
                            "      <td>0</td>\n",
                            "    </tr>\n",
                            "    <tr>\n",
                            "      <th>1</th>\n",
                            "      <td>4.54590</td>\n",
                            "      <td>8.1674</td>\n",
                            "      <td>-2.4586</td>\n",
                            "      <td>-1.46210</td>\n",
                            "      <td>0</td>\n",
                            "    </tr>\n",
                            "    <tr>\n",
                            "      <th>2</th>\n",
                            "      <td>3.86600</td>\n",
                            "      <td>-2.6383</td>\n",
                            "      <td>1.9242</td>\n",
                            "      <td>0.10645</td>\n",
                            "      <td>0</td>\n",
                            "    </tr>\n",
                            "    <tr>\n",
                            "      <th>3</th>\n",
                            "      <td>3.45660</td>\n",
                            "      <td>9.5228</td>\n",
                            "      <td>-4.0112</td>\n",
                            "      <td>-3.59440</td>\n",
                            "      <td>0</td>\n",
                            "    </tr>\n",
                            "    <tr>\n",
                            "      <th>4</th>\n",
                            "      <td>0.32924</td>\n",
                            "      <td>-4.4552</td>\n",
                            "      <td>4.5718</td>\n",
                            "      <td>-0.98880</td>\n",
                            "      <td>0</td>\n",
                            "    </tr>\n",
                            "  </tbody>\n",
                            "</table>\n",
                            "</div>"
                        ]
                    },
                    "metadata": {},
                    "execution_count": 19
                }
            ],
            "metadata": {}
        },
        {
            "cell_type": "markdown",
            "source": [
                "### Independent and Dependent variables assignment"
            ],
            "metadata": {}
        },
        {
            "cell_type": "code",
            "execution_count": 20,
            "source": [
                "X=df.iloc[:,:-1]\n",
                "y=df.iloc[:,-1]"
            ],
            "outputs": [],
            "metadata": {}
        },
        {
            "cell_type": "code",
            "execution_count": 21,
            "source": [
                "X.head()"
            ],
            "outputs": [
                {
                    "output_type": "execute_result",
                    "data": {
                        "text/plain": [
                            "   variance  skewness  curtosis  entropy\n",
                            "0   3.62160    8.6661   -2.8073 -0.44699\n",
                            "1   4.54590    8.1674   -2.4586 -1.46210\n",
                            "2   3.86600   -2.6383    1.9242  0.10645\n",
                            "3   3.45660    9.5228   -4.0112 -3.59440\n",
                            "4   0.32924   -4.4552    4.5718 -0.98880"
                        ],
                        "text/html": [
                            "<div>\n",
                            "<style scoped>\n",
                            "    .dataframe tbody tr th:only-of-type {\n",
                            "        vertical-align: middle;\n",
                            "    }\n",
                            "\n",
                            "    .dataframe tbody tr th {\n",
                            "        vertical-align: top;\n",
                            "    }\n",
                            "\n",
                            "    .dataframe thead th {\n",
                            "        text-align: right;\n",
                            "    }\n",
                            "</style>\n",
                            "<table border=\"1\" class=\"dataframe\">\n",
                            "  <thead>\n",
                            "    <tr style=\"text-align: right;\">\n",
                            "      <th></th>\n",
                            "      <th>variance</th>\n",
                            "      <th>skewness</th>\n",
                            "      <th>curtosis</th>\n",
                            "      <th>entropy</th>\n",
                            "    </tr>\n",
                            "  </thead>\n",
                            "  <tbody>\n",
                            "    <tr>\n",
                            "      <th>0</th>\n",
                            "      <td>3.62160</td>\n",
                            "      <td>8.6661</td>\n",
                            "      <td>-2.8073</td>\n",
                            "      <td>-0.44699</td>\n",
                            "    </tr>\n",
                            "    <tr>\n",
                            "      <th>1</th>\n",
                            "      <td>4.54590</td>\n",
                            "      <td>8.1674</td>\n",
                            "      <td>-2.4586</td>\n",
                            "      <td>-1.46210</td>\n",
                            "    </tr>\n",
                            "    <tr>\n",
                            "      <th>2</th>\n",
                            "      <td>3.86600</td>\n",
                            "      <td>-2.6383</td>\n",
                            "      <td>1.9242</td>\n",
                            "      <td>0.10645</td>\n",
                            "    </tr>\n",
                            "    <tr>\n",
                            "      <th>3</th>\n",
                            "      <td>3.45660</td>\n",
                            "      <td>9.5228</td>\n",
                            "      <td>-4.0112</td>\n",
                            "      <td>-3.59440</td>\n",
                            "    </tr>\n",
                            "    <tr>\n",
                            "      <th>4</th>\n",
                            "      <td>0.32924</td>\n",
                            "      <td>-4.4552</td>\n",
                            "      <td>4.5718</td>\n",
                            "      <td>-0.98880</td>\n",
                            "    </tr>\n",
                            "  </tbody>\n",
                            "</table>\n",
                            "</div>"
                        ]
                    },
                    "metadata": {},
                    "execution_count": 21
                }
            ],
            "metadata": {}
        },
        {
            "cell_type": "code",
            "execution_count": 22,
            "source": [
                "y.head(20)\n"
            ],
            "outputs": [
                {
                    "output_type": "execute_result",
                    "data": {
                        "text/plain": [
                            "0     0\n",
                            "1     0\n",
                            "2     0\n",
                            "3     0\n",
                            "4     0\n",
                            "5     0\n",
                            "6     0\n",
                            "7     0\n",
                            "8     0\n",
                            "9     0\n",
                            "10    0\n",
                            "11    0\n",
                            "12    0\n",
                            "13    0\n",
                            "14    0\n",
                            "15    0\n",
                            "16    0\n",
                            "17    0\n",
                            "18    0\n",
                            "19    0\n",
                            "Name: class, dtype: int64"
                        ]
                    },
                    "metadata": {},
                    "execution_count": 22
                }
            ],
            "metadata": {}
        },
        {
            "cell_type": "markdown",
            "source": [
                "## Train Test Split"
            ],
            "metadata": {}
        },
        {
            "cell_type": "code",
            "execution_count": 23,
            "source": [
                "from sklearn.model_selection import train_test_split"
            ],
            "outputs": [],
            "metadata": {}
        },
        {
            "cell_type": "code",
            "execution_count": 24,
            "source": [
                "X_train,X_test,y_train,y_test=train_test_split(X,y,test_size=0.3,random_state=0)"
            ],
            "outputs": [],
            "metadata": {}
        },
        {
            "cell_type": "markdown",
            "source": [
                "## Random Forest classifier"
            ],
            "metadata": {}
        },
        {
            "cell_type": "code",
            "execution_count": 25,
            "source": [
                "from sklearn.ensemble import RandomForestClassifier\n",
                "classifier=RandomForestClassifier()\n",
                "classifier.fit(X_train,y_train)"
            ],
            "outputs": [
                {
                    "output_type": "execute_result",
                    "data": {
                        "text/plain": [
                            "RandomForestClassifier()"
                        ]
                    },
                    "metadata": {},
                    "execution_count": 25
                }
            ],
            "metadata": {}
        },
        {
            "cell_type": "markdown",
            "source": [
                "## Prediction"
            ],
            "metadata": {}
        },
        {
            "cell_type": "code",
            "execution_count": 26,
            "source": [
                "y_pred=classifier.predict(X_test)"
            ],
            "outputs": [],
            "metadata": {}
        },
        {
            "cell_type": "markdown",
            "source": [
                "### Check Accuracy"
            ],
            "metadata": {}
        },
        {
            "cell_type": "code",
            "execution_count": 27,
            "source": [
                "from sklearn.metrics import accuracy_score\n",
                "score=accuracy_score(y_test,y_pred)\n",
                "score"
            ],
            "outputs": [
                {
                    "output_type": "execute_result",
                    "data": {
                        "text/plain": [
                            "0.9902912621359223"
                        ]
                    },
                    "metadata": {},
                    "execution_count": 27
                }
            ],
            "metadata": {}
        },
        {
            "cell_type": "markdown",
            "source": [
                "### Serialization "
            ],
            "metadata": {}
        },
        {
            "cell_type": "code",
            "execution_count": 28,
            "source": [
                "\n",
                "import pickle\n",
                "pickle_out = open(\"classifier.pkl\",\"wb\")\n",
                "pickle.dump(classifier, pickle_out)\n",
                "pickle_out.close()"
            ],
            "outputs": [],
            "metadata": {}
        },
        {
            "cell_type": "code",
            "execution_count": 29,
            "source": [
                "classifier.predict([[2,3,4,1]])"
            ],
            "outputs": [
                {
                    "output_type": "execute_result",
                    "data": {
                        "text/plain": [
                            "array([0])"
                        ]
                    },
                    "metadata": {},
                    "execution_count": 29
                }
            ],
            "metadata": {}
        }
    ],
    "metadata": {
        "orig_nbformat": 4,
        "language_info": {
            "name": "python",
            "version": "3.7.11",
            "mimetype": "text/x-python",
            "codemirror_mode": {
                "name": "ipython",
                "version": 3
            },
            "pygments_lexer": "ipython3",
            "nbconvert_exporter": "python",
            "file_extension": ".py"
        },
        "kernelspec": {
            "name": "python3",
            "display_name": "Python 3.7.11 64-bit ('dev': conda)"
        },
        "interpreter": {
            "hash": "aeb41122d04dfa4a85eba97579844b778e04418b7034b9d608ec539f4ca41812"
        }
    },
    "nbformat": 4,
    "nbformat_minor": 2
}